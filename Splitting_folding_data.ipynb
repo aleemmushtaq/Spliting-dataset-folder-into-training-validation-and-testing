{
 "cells": [
  {
   "cell_type": "code",
   "execution_count": 1,
   "metadata": {},
   "outputs": [],
   "source": [
    "import splitfolders"
   ]
  },
  {
   "cell_type": "code",
   "execution_count": 4,
   "metadata": {},
   "outputs": [
    {
     "name": "stderr",
     "output_type": "stream",
     "text": [
      "Copying files: 2624 files [01:29, 29.35 files/s]\n"
     ]
    }
   ],
   "source": [
    "input_folder=\"D:/Thesis 2020/Seperated_Classes\"\n",
    "output=\"D:/Thesis 2020/proceeddata\"\n",
    "splitfolders.ratio(input_folder,output,seed=42,ratio=(.6,.2,.2))"
   ]
  },
  {
   "cell_type": "code",
   "execution_count": null,
   "metadata": {},
   "outputs": [],
   "source": []
  }
 ],
 "metadata": {
  "kernelspec": {
   "display_name": "Python 3",
   "language": "python",
   "name": "python3"
  },
  "language_info": {
   "codemirror_mode": {
    "name": "ipython",
    "version": 3
   },
   "file_extension": ".py",
   "mimetype": "text/x-python",
   "name": "python",
   "nbconvert_exporter": "python",
   "pygments_lexer": "ipython3",
   "version": "3.7.9"
  }
 },
 "nbformat": 4,
 "nbformat_minor": 4
}
